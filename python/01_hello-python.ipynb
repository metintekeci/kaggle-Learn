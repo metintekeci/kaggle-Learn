{
 "metadata": {
  "language_info": {
   "codemirror_mode": {
    "name": "ipython",
    "version": 3
   },
   "file_extension": ".py",
   "mimetype": "text/x-python",
   "name": "python",
   "nbconvert_exporter": "python",
   "pygments_lexer": "ipython3",
   "version": "3.8.5-final"
  },
  "orig_nbformat": 2,
  "kernelspec": {
   "name": "python3",
   "display_name": "Python 3.8.5 64-bit",
   "metadata": {
    "interpreter": {
     "hash": "054414c9dbedf58d74e6f95e07ec574ea6ceda799e898fbf60e4775d656026c2"
    }
   }
  }
 },
 "nbformat": 4,
 "nbformat_minor": 2,
 "cells": [
  {
   "source": [
    "# Intro\n",
    "\n",
    "__This is a part my personal notes for Kaggle Courses.See original notes from kaggle.com__ \n",
    "\n",
    "This course covers the key Python skills you’ll need so you can start using Python for data science.\n",
    "\n",
    "We'll start with a brief overview of Python syntax, variable assignment, and arithmetic operators. If you have previous Python experience, you can [skip straight to the hands-on exercise]"
   ],
   "cell_type": "markdown",
   "metadata": {}
  },
  {
   "source": [
    "# Hello, Python!\n",
    "\n",
    "Python was named for the British comedy troupe [Monty Python](https://en.wikipedia.org/wiki/Monty_Python), so we'll make our first Python program an homage to their skit about Spam?\n",
    "\n",
    "Just for fun, try reading over the code below and predicting what it's going to do when run. (If you have no idea, that's fine!)\n",
    "\n",
    "Then click the \"output\" button to see the results of our program."
   ],
   "cell_type": "markdown",
   "metadata": {}
  },
  {
   "cell_type": "code",
   "execution_count": 1,
   "metadata": {},
   "outputs": [
    {
     "output_type": "stream",
     "name": "stdout",
     "text": [
      "0\nBut I don't want ANY spam!\nSpam Spam Spam Spam \n"
     ]
    }
   ],
   "source": [
    "spam_amount = 0\n",
    "print(spam_amount)\n",
    "\n",
    "# Ordering Spam, egg, Spam, Spam, bacon and Spam (4 more servings of Spam)\n",
    "spam_amount = spam_amount + 4\n",
    "\n",
    "if spam_amount > 0:\n",
    "    print(\"But I don't want ANY spam!\")\n",
    "\n",
    "viking_song = \"Spam \" * spam_amount\n",
    "print(viking_song)"
   ]
  },
  {
   "source": [
    "There's a lot to unpack here! This silly program demonstrates many important aspects of what Python code looks like and how it works. Let's review the code from top to bottom."
   ],
   "cell_type": "markdown",
   "metadata": {}
  },
  {
   "cell_type": "code",
   "execution_count": 2,
   "metadata": {},
   "outputs": [],
   "source": [
    "spam_amount = 0"
   ]
  },
  {
   "source": [
    "**Variable assignment:** Here we create a variable called `spam_amount` and assign it the value of 0 using `=`, which is called the assignment operator.\n",
    "\n",
    "> **Aside**: If you've programmed in certain other languages (like Java or C++), you might be noticing some things Python *doesn't* require us to do here:  \n",
    "- we don't need to \"declare\" `spam_amount` before assigning to it\n",
    "- we don't need to tell Python what type of value `spam_amount` is going to refer to. In fact, we can even go on to reassign `spam_amount` to refer to a different sort of thing like a string or a boolean."
   ],
   "cell_type": "markdown",
   "metadata": {}
  },
  {
   "cell_type": "code",
   "execution_count": 3,
   "metadata": {},
   "outputs": [
    {
     "output_type": "stream",
     "name": "stdout",
     "text": [
      "0\n"
     ]
    }
   ],
   "source": [
    "print(spam_amount)"
   ]
  },
  {
   "source": [
    "**Function calls:**. `print` is a Python function that displays the value passed to it on the screen. We call functions by putting parentheses after their name, and putting the inputs (or *arguments*) to the function in those parentheses."
   ],
   "cell_type": "markdown",
   "metadata": {}
  },
  {
   "cell_type": "code",
   "execution_count": 4,
   "metadata": {},
   "outputs": [],
   "source": [
    "# Ordering Spam, egg, Spam, Spam, bacon and Spam (4 more servings of Spam)\n",
    "spam_amount = spam_amount + 4"
   ]
  },
  {
   "source": [
    "The first line above is a **comment**. In Python, comments begin with the `#` symbol.\n",
    "\n",
    "Next we see an example of reassignment. Reassigning the value of an existing variable looks just the same as creating a variable - it still uses the `=` assignment operator.\n",
    "\n",
    "In this case, the value we're assigning to `spam_amount` involves some simple arithmetic on its previous value. When it encounters this line, Python evaluates the expression on the right-hand-side of the `=` (0 + 4 = 4), and then assigns that value to the variable on the left-hand-side."
   ],
   "cell_type": "markdown",
   "metadata": {}
  },
  {
   "cell_type": "code",
   "execution_count": 5,
   "metadata": {},
   "outputs": [
    {
     "output_type": "stream",
     "name": "stdout",
     "text": [
      "But I don't want ANY spam!\nSpam Spam Spam\n"
     ]
    }
   ],
   "source": [
    "if spam_amount > 0:\n",
    "    print(\"But I don't want ANY spam!\")\n",
    "\n",
    "viking_song = \"Spam Spam Spam\"\n",
    "print(viking_song)"
   ]
  },
  {
   "source": [
    "We won't talk much about \"conditionals\" until later, but, even if you've never coded before, you can probably guess what this does. Python is prized for its readability and the simplicity. \n",
    "\n",
    "Note how we indicated which code belongs to the `if`. `\"But I don't want ANY spam!\"` is only supposed to be printed if `spam_amount` is positive. But the later code (like `print(viking_song)`) should be executed no matter what. How do we (and Python) know that?\n",
    "\n",
    "The colon (`:`) at the end of the `if` line indicates that a new \"code block\" is starting. Subsequent lines which are **indented** are part of that code block. Some other languages use `{`curly braces`}` to mark the beginning and end of code blocks. Python's use of meaningful whitespace can be surprising to programmers who are accustomed to other languages, but in practice it can lead to more consistent and readable code than languages that do not enforce indentation of code blocks. \n",
    "\n",
    "The later lines dealing with `viking_song` are not indented with an extra 4 spaces, so they're not a part of the `if`'s code block. We'll see more examples of indented code blocks later when we define functions and using loops.\n",
    "\n",
    "This code snippet is also our first sighting of a **string** in Python:\n",
    "\n",
    "```python\n",
    "\"But I don't want ANY spam!\"\n",
    "```\n",
    "\n",
    "Strings can be marked either by double or single quotation marks. (But because this particular string *contains* a single-quote character, we might confuse Python by trying to surround it with single-quotes, unless we're careful.)"
   ],
   "cell_type": "markdown",
   "metadata": {}
  },
  {
   "cell_type": "code",
   "execution_count": 6,
   "metadata": {},
   "outputs": [
    {
     "output_type": "stream",
     "name": "stdout",
     "text": [
      "Spam Spam Spam Spam \n"
     ]
    }
   ],
   "source": [
    "viking_song = \"Spam \" * spam_amount\n",
    "print(viking_song)"
   ]
  },
  {
   "source": [
    "The `*` operator can be used to multiply two numbers (`3 * 3` evaluates to 9), but amusingly enough, we can also multiply a string by a number, to get a version that's been repeated that many times. Python offers a number of cheeky little time-saving tricks like this where operators like `*` and `+` have a different meaning depending on what kind of thing they're applied to. (The technical term for this is [operator overloading](https://en.wikipedia.org/wiki/Operator_overloading))"
   ],
   "cell_type": "markdown",
   "metadata": {}
  },
  {
   "source": [
    "## Numbers and arithmetic in Python\n",
    "\n",
    "We've already seen an example of a variable containing a number above:"
   ],
   "cell_type": "markdown",
   "metadata": {}
  },
  {
   "cell_type": "code",
   "execution_count": 7,
   "metadata": {},
   "outputs": [],
   "source": [
    "spam_amount = 0"
   ]
  },
  {
   "source": [
    "\"Number\" is a fine informal name for the kind of thing, but if we wanted to be more technical, we could ask Python how it would describe the type of thing that `spam_amount` is:"
   ],
   "cell_type": "markdown",
   "metadata": {}
  },
  {
   "cell_type": "code",
   "execution_count": 8,
   "metadata": {},
   "outputs": [
    {
     "output_type": "execute_result",
     "data": {
      "text/plain": [
       "int"
      ]
     },
     "metadata": {},
     "execution_count": 8
    }
   ],
   "source": [
    "type(spam_amount)"
   ]
  },
  {
   "source": [
    "It's an `int` - short for integer. There's another sort of number we commonly encounter in Python:"
   ],
   "cell_type": "markdown",
   "metadata": {}
  },
  {
   "source": [
    "type(19.95)"
   ],
   "cell_type": "code",
   "metadata": {},
   "execution_count": 9,
   "outputs": [
    {
     "output_type": "execute_result",
     "data": {
      "text/plain": [
       "float"
      ]
     },
     "metadata": {},
     "execution_count": 9
    }
   ]
  },
  {
   "source": [
    "A `float` is a number with a decimal place - very useful for representing things like weights or proportions.\n",
    "\n",
    "`type()` is the second built-in function we've seen (after `print()`), and it's another good one to remember. It's very useful to be able to ask Python \"what kind of thing is this?\""
   ],
   "cell_type": "markdown",
   "metadata": {}
  },
  {
   "source": [
    "A natural thing to want to do with numbers is perform arithmetic. We've seen the `+` operator for addition, and the `*` operator for multiplication (of a sort). Python also has us covered for the rest of the basic buttons on your calculator:\n",
    "\n",
    "| Operator     | Name           | Description                                            |\n",
    "|--------------|----------------|--------------------------------------------------------|\n",
    "| ``a + b``    | Addition       | Sum of ``a`` and ``b``                                 |\n",
    "| ``a - b``    | Subtraction    | Difference of ``a`` and ``b``                          |\n",
    "| ``a * b``    | Multiplication | Product of ``a`` and ``b``                             |\n",
    "| ``a / b``    | True division  | Quotient of ``a`` and ``b``                            |\n",
    "| ``a // b``   | Floor division | Quotient of ``a`` and ``b``, removing fractional parts |\n",
    "| ``a % b``    | Modulus        | Integer remainder after division of ``a`` by ``b``     |\n",
    "| ``a ** b``   | Exponentiation | ``a`` raised to the power of ``b``                     |\n",
    "| ``-a``       | Negation       | The negative of ``a``                                  |\n",
    "\n",
    "<span style=\"display:none\"></span>\n",
    "\n",
    "One interesting observation here is that, whereas your calculator probably just has one button for division, Python can do two kinds. \"True division\" is basically what your calculator does:"
   ],
   "cell_type": "markdown",
   "metadata": {}
  },
  {
   "cell_type": "code",
   "execution_count": 10,
   "metadata": {},
   "outputs": [
    {
     "output_type": "stream",
     "name": "stdout",
     "text": [
      "2.5\n3.0\n"
     ]
    }
   ],
   "source": [
    "print(5 / 2)\n",
    "print(6 / 2)"
   ]
  },
  {
   "source": [
    "It always gives us a `float`. \n",
    "\n",
    "The `//` operator gives us a result that's rounded down to the next integer."
   ],
   "cell_type": "markdown",
   "metadata": {}
  },
  {
   "cell_type": "code",
   "execution_count": 11,
   "metadata": {},
   "outputs": [
    {
     "output_type": "stream",
     "name": "stdout",
     "text": [
      "2\n3\n"
     ]
    }
   ],
   "source": [
    "print(5 // 2)\n",
    "print(6 // 2)"
   ]
  },
  {
   "source": [
    "Can you think of where this would be useful? You'll see an example soon in the coding challenges."
   ],
   "cell_type": "markdown",
   "metadata": {}
  },
  {
   "source": [
    "### Order of operations\n",
    "\n",
    "The arithmetic we learned in primary school has conventions about the order in which operations are evaluated. Some remember these by a mnemonic such as **PEMDAS** - **P**arentheses, **E**xponents, **M**ultiplication/**D**ivision, **A**ddition/**S**ubtraction.\n",
    "\n",
    "Python follows similar rules about which calculations to perform first. They're mostly pretty intuitive."
   ],
   "cell_type": "markdown",
   "metadata": {}
  },
  {
   "cell_type": "code",
   "execution_count": 12,
   "metadata": {},
   "outputs": [
    {
     "output_type": "execute_result",
     "data": {
      "text/plain": [
       "7"
      ]
     },
     "metadata": {},
     "execution_count": 12
    }
   ],
   "source": [
    "8 - 3 + 2"
   ]
  },
  {
   "cell_type": "code",
   "execution_count": 13,
   "metadata": {},
   "outputs": [
    {
     "output_type": "execute_result",
     "data": {
      "text/plain": [
       "5"
      ]
     },
     "metadata": {},
     "execution_count": 13
    }
   ],
   "source": [
    "-3 + 4 * 2"
   ]
  },
  {
   "source": [
    "Sometimes the default order of operations isn't what we want:"
   ],
   "cell_type": "markdown",
   "metadata": {}
  },
  {
   "source": [
    "hat_height_cm = 25\n",
    "my_height_cm = 190\n",
    "# How tall am I, in meters, when wearing my hat?\n",
    "total_height_meters = hat_height_cm + my_height_cm / 100\n",
    "print(\"Height in meters =\", total_height_meters, \"?\")"
   ],
   "cell_type": "code",
   "metadata": {},
   "execution_count": 14,
   "outputs": [
    {
     "output_type": "stream",
     "name": "stdout",
     "text": [
      "Height in meters = 26.9 ?\n"
     ]
    }
   ]
  },
  {
   "source": [
    "Parentheses are your useful here. You can add them to force Python to evaluate sub-expressions in whatever order you want."
   ],
   "cell_type": "markdown",
   "metadata": {}
  },
  {
   "source": [
    "total_height_meters = (hat_height_cm + my_height_cm) / 100\n",
    "print(\"Height in meters =\", total_height_meters)"
   ],
   "cell_type": "code",
   "metadata": {},
   "execution_count": 15,
   "outputs": [
    {
     "output_type": "stream",
     "name": "stdout",
     "text": [
      "Height in meters = 2.15\n"
     ]
    }
   ]
  },
  {
   "source": [
    "### Builtin functions for working with numbers\n",
    "\n",
    "`min` and `max` return the minimum and maximum of their arguments, respectively..."
   ],
   "cell_type": "markdown",
   "metadata": {}
  },
  {
   "cell_type": "code",
   "execution_count": 16,
   "metadata": {},
   "outputs": [
    {
     "output_type": "stream",
     "name": "stdout",
     "text": [
      "1\n3\n"
     ]
    }
   ],
   "source": [
    "print(min(1, 2, 3))\n",
    "print(max(1, 2, 3))"
   ]
  },
  {
   "source": [
    "`abs` returns the absolute value of it argument:"
   ],
   "cell_type": "markdown",
   "metadata": {}
  },
  {
   "cell_type": "code",
   "execution_count": null,
   "metadata": {},
   "outputs": [],
   "source": [
    "print(abs(32))\n",
    "print(abs(-32))"
   ]
  },
  {
   "source": [
    "In addition to being the names of Python's two main numerical types, `int` and `float` can also be called as functions which convert their arguments to the corresponding type:"
   ],
   "cell_type": "markdown",
   "metadata": {}
  },
  {
   "cell_type": "code",
   "execution_count": null,
   "metadata": {},
   "outputs": [],
   "source": [
    "print(float(10))\n",
    "print(int(3.33))\n",
    "# They can even be called on strings!\n",
    "print(int('807') + 1)"
   ]
  },
  {
   "cell_type": "code",
   "execution_count": null,
   "metadata": {},
   "outputs": [],
   "source": [
    "# Your Turn\n",
    "\n",
    "Now is your chance. Try your first Python programming exercise."
   ]
  }
 ]
}